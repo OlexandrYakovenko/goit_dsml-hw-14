{
  "nbformat": 4,
  "nbformat_minor": 0,
  "metadata": {
    "colab": {
      "provenance": []
    },
    "kernelspec": {
      "name": "python3",
      "display_name": "Python 3"
    },
    "language_info": {
      "name": "python"
    }
  },
  "cells": [
    {
      "cell_type": "code",
      "execution_count": null,
      "metadata": {
        "id": "2r0IL8il9i7f"
      },
      "outputs": [],
      "source": [
        "# setting datasets library\n",
        "!pip install datasets"
      ]
    },
    {
      "cell_type": "code",
      "source": [
        "from datasets import load_dataset\n",
        "\n",
        "# Завантаження датасету IMDb\n",
        "dataset = load_dataset('imdb')\n",
        "\n",
        "# Перевірка структури датасету\n",
        "print(dataset)"
      ],
      "metadata": {
        "id": "G7Q6xgam_Dfj"
      },
      "execution_count": null,
      "outputs": []
    },
    {
      "cell_type": "code",
      "source": [
        "# Приклад доступу до даних\n",
        "train_data = dataset['train']\n",
        "print(train_data[0])"
      ],
      "metadata": {
        "id": "KTenjaOx_HKY"
      },
      "execution_count": null,
      "outputs": []
    },
    {
      "cell_type": "code",
      "source": [
        "import numpy as np\n",
        "from tensorflow.keras.datasets import imdb\n",
        "from tensorflow.keras.preprocessing.sequence import pad_sequences\n",
        "from tensorflow.keras.models import Sequential\n",
        "from tensorflow.keras.layers import Embedding, SimpleRNN, LSTM, Bidirectional, Dense, Dropout, GRU\n",
        "\n",
        "# Завантаження даних IMDB\n",
        "max_features = 10000  # Кількість слів у словнику\n",
        "maxlen = 500  # Максимальна довжина рецензій\n",
        "\n",
        "(x_train, y_train), (x_test, y_test) = imdb.load_data(num_words=max_features)\n",
        "x_train = pad_sequences(x_train, maxlen=maxlen)\n",
        "x_test = pad_sequences(x_test, maxlen=maxlen)\n"
      ],
      "metadata": {
        "id": "i6TFxl0R_Vy5"
      },
      "execution_count": null,
      "outputs": []
    },
    {
      "cell_type": "code",
      "source": [
        "def plot_history(history_object):\n",
        "  # Побудова графіку точності\n",
        "  plt.figure(figsize=(12, 4))\n",
        "  plt.subplot(1, 2, 1)\n",
        "  plt.plot(history_object.history['accuracy'], label='Точність на тренуванні')\n",
        "  plt.plot(history_object.history['val_accuracy'], label='Точність на валідації')\n",
        "  plt.xlabel('Епоха')\n",
        "  plt.ylabel('Точність')\n",
        "  plt.title('Точність тренування та валідації')\n",
        "  plt.legend()\n",
        "\n",
        "  # Додавання тестової точності до графіку\n",
        "  plt.scatter(len(history_object.history['accuracy']), test_acc, label='Точність на тесті', color='red')\n",
        "  plt.legend()\n",
        "\n",
        "  # Побудова графіку втрат\n",
        "  plt.subplot(1, 2, 2)\n",
        "  plt.plot(history_object.history['loss'], label='Втрати на тренуванні')\n",
        "  plt.plot(history_object.history['val_loss'], label='Втрати на валідації')\n",
        "  plt.xlabel('Епоха')\n",
        "  plt.ylabel('Втрати')\n",
        "  plt.title('Втрати тренування та валідації')\n",
        "  plt.legend()\n",
        "\n",
        "# приклад використання\n",
        "# plot_history(history_1)"
      ],
      "metadata": {
        "id": "GVGlCyJA_0qS"
      },
      "execution_count": null,
      "outputs": []
    },
    {
      "cell_type": "markdown",
      "source": [
        "## 1. Мережа RNN"
      ],
      "metadata": {
        "id": "uLXCoN2V_aA5"
      }
    },
    {
      "cell_type": "code",
      "source": [
        "# Створення RNN моделі\n",
        "rnn_model = Sequential()\n",
        "rnn_model.add(Embedding(max_features, 128, input_length=maxlen))\n",
        "rnn_model.add(SimpleRNN(64))\n",
        "rnn_model.add(Dense(1, activation='sigmoid'))\n",
        "\n",
        "rnn_model.compile(optimizer='adam', loss='binary_crossentropy', metrics=['accuracy'])\n",
        "\n",
        "# Навчання моделі\n",
        "rnn_model.fit(x_train, y_train, epochs=5, batch_size=32, validation_split=0.2)\n"
      ],
      "metadata": {
        "id": "ukUZST7t_co_"
      },
      "execution_count": null,
      "outputs": []
    },
    {
      "cell_type": "markdown",
      "source": [
        "## 2. Мережа LSTM"
      ],
      "metadata": {
        "id": "q0B78Q0T_fGp"
      }
    },
    {
      "cell_type": "code",
      "source": [
        "# Створення LSTM моделі\n",
        "lstm_model = Sequential()\n",
        "lstm_model.add(Embedding(max_features, 128, input_length=maxlen))\n",
        "lstm_model.add(LSTM(64))\n",
        "lstm_model.add(Dense(1, activation='sigmoid'))\n",
        "\n",
        "lstm_model.compile(optimizer='adam', loss='binary_crossentropy', metrics=['accuracy'])\n",
        "\n",
        "# Навчання моделі\n",
        "lstm_model.fit(x_train, y_train, epochs=5, batch_size=32, validation_split=0.2)\n"
      ],
      "metadata": {
        "id": "3XG0uQec_hb6"
      },
      "execution_count": null,
      "outputs": []
    },
    {
      "cell_type": "markdown",
      "source": [
        "## Двостороння LSTM"
      ],
      "metadata": {
        "id": "UtnsoEhGBb91"
      }
    },
    {
      "cell_type": "code",
      "source": [
        "# Створення двосторонньої LSTM моделі\n",
        "bilstm_model = Sequential()\n",
        "bilstm_model.add(Embedding(max_features, 128, input_length=maxlen))\n",
        "bilstm_model.add(Bidirectional(LSTM(64)))\n",
        "bilstm_model.add(Dense(1, activation='sigmoid'))\n",
        "\n",
        "bilstm_model.compile(optimizer='adam', loss='binary_crossentropy', metrics=['accuracy'])\n",
        "\n",
        "# Навчання моделі\n",
        "bilstm_model.fit(x_train, y_train, epochs=5, batch_size=32, validation_split=0.2)\n"
      ],
      "metadata": {
        "id": "F4gjrX1hBeVp"
      },
      "execution_count": null,
      "outputs": []
    },
    {
      "cell_type": "markdown",
      "source": [
        "## 4. Глибока мережа (стек LSTM шарів)"
      ],
      "metadata": {
        "id": "Im0ZrOxnBhqA"
      }
    },
    {
      "cell_type": "code",
      "source": [
        "# Створення глибокої LSTM моделі\n",
        "deep_lstm_model = Sequential()\n",
        "deep_lstm_model.add(Embedding(max_features, 128, input_length=maxlen))\n",
        "deep_lstm_model.add(LSTM(64, return_sequences=True))\n",
        "deep_lstm_model.add(LSTM(64))\n",
        "deep_lstm_model.add(Dense(1, activation='sigmoid'))\n",
        "\n",
        "deep_lstm_model.compile(optimizer='adam', loss='binary_crossentropy', metrics=['accuracy'])\n",
        "\n",
        "# Навчання моделі\n",
        "deep_lstm_model.fit(x_train, y_train, epochs=5, batch_size=32, validation_split=0.2)\n"
      ],
      "metadata": {
        "id": "LL70MkhHBjKr"
      },
      "execution_count": null,
      "outputs": []
    },
    {
      "cell_type": "markdown",
      "source": [
        "## 5. Глибока мережа (стек GRU шарів)"
      ],
      "metadata": {
        "id": "UYJrTCyNBmZ0"
      }
    },
    {
      "cell_type": "code",
      "source": [
        "# Створення глибокої GRU моделі\n",
        "deep_gru_model = Sequential()\n",
        "deep_gru_model.add(Embedding(max_features, 128, input_length=maxlen))\n",
        "deep_gru_model.add(GRU(64, return_sequences=True))\n",
        "deep_gru_model.add(GRU(64))\n",
        "deep_gru_model.add(Dense(1, activation='sigmoid'))\n",
        "\n",
        "deep_gru_model.compile(optimizer='adam', loss='binary_crossentropy', metrics=['accuracy'])\n",
        "\n",
        "# Навчання моделі\n",
        "deep_gru_model.fit(x_train, y_train, epochs=5, batch_size=32, validation_split=0.2)\n"
      ],
      "metadata": {
        "id": "nob6erHdBn4l"
      },
      "execution_count": null,
      "outputs": []
    }
  ]
}